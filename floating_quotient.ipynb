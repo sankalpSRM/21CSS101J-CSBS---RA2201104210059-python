{
  "nbformat": 4,
  "nbformat_minor": 0,
  "metadata": {
    "colab": {
      "provenance": [],
      "authorship_tag": "ABX9TyOzD5Oa0DCXy6Hk0Ujvn16k",
      "include_colab_link": true
    },
    "kernelspec": {
      "name": "python3",
      "display_name": "Python 3"
    },
    "language_info": {
      "name": "python"
    }
  },
  "cells": [
    {
      "cell_type": "markdown",
      "metadata": {
        "id": "view-in-github",
        "colab_type": "text"
      },
      "source": [
        "<a href=\"https://colab.research.google.com/github/sankalpSRM/21CSS101J-CSBS---RA2201104210059-python/blob/main/floating_quotient.ipynb\" target=\"_parent\"><img src=\"https://colab.research.google.com/assets/colab-badge.svg\" alt=\"Open In Colab\"/></a>"
      ]
    },
    {
      "cell_type": "code",
      "source": [
        "a = int(input(\"Enter a number : \"))\n",
        "b = int(input(\"Enter another number : \"))\n",
        "operator = a / b\n",
        "print(operator)"
      ],
      "metadata": {
        "colab": {
          "base_uri": "https://localhost:8080/"
        },
        "id": "sY2YRIKTKzBa",
        "outputId": "baa97e99-55f2-44ff-e574-a6514b61614e"
      },
      "execution_count": 19,
      "outputs": [
        {
          "output_type": "stream",
          "name": "stdout",
          "text": [
            "Enter a number : 10\n",
            "Enter another number : 3\n",
            "3.3333333333333335\n"
          ]
        }
      ]
    },
    {
      "cell_type": "markdown",
      "source": [
        "RA2211042010059"
      ],
      "metadata": {
        "id": "b2AsA0C1M9gk"
      }
    }
  ]
}