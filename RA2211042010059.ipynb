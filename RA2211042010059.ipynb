{
  "nbformat": 4,
  "nbformat_minor": 0,
  "metadata": {
    "colab": {
      "provenance": [],
      "authorship_tag": "ABX9TyMQcThtp3Nfs9lZPXbEoqnT",
      "include_colab_link": true
    },
    "kernelspec": {
      "name": "python3",
      "display_name": "Python 3"
    },
    "language_info": {
      "name": "python"
    }
  },
  "cells": [
    {
      "cell_type": "markdown",
      "metadata": {
        "id": "view-in-github",
        "colab_type": "text"
      },
      "source": [
        "<a href=\"https://colab.research.google.com/github/sankalpSRM/21CSS101J-CSBS---RA2201104210059-python/blob/main/RA2211042010059.ipynb\" target=\"_parent\"><img src=\"https://colab.research.google.com/assets/colab-badge.svg\" alt=\"Open In Colab\"/></a>"
      ]
    },
    {
      "cell_type": "code",
      "execution_count": 4,
      "metadata": {
        "colab": {
          "base_uri": "https://localhost:8080/"
        },
        "id": "4nfxa9RyI2Xh",
        "outputId": "650a815e-216b-46fc-b29a-54b200c38b18"
      },
      "outputs": [
        {
          "output_type": "stream",
          "name": "stdout",
          "text": [
            "RA2211042010059\n",
            "Enter your Name : broobro\n",
            "Invalid\n"
          ]
        }
      ],
      "source": [
        "print(\"RA2211042010059\")\n",
        "name = input(\"Enter your Name : \")\n",
        "if(name=='Sankalp'):\n",
        "  print(\"Work\")\n",
        "elif(name=='Shaan'):\n",
        "  print(\"Home\")\n",
        "else:\n",
        "  print(\"Invalid\")\n",
        "\n"
      ]
    }
  ]
}