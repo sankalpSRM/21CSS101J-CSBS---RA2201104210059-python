{
  "nbformat": 4,
  "nbformat_minor": 0,
  "metadata": {
    "colab": {
      "provenance": [],
      "authorship_tag": "ABX9TyNtJO+IxBV/tHcw8ffdbrQi",
      "include_colab_link": true
    },
    "kernelspec": {
      "name": "python3",
      "display_name": "Python 3"
    },
    "language_info": {
      "name": "python"
    }
  },
  "cells": [
    {
      "cell_type": "markdown",
      "metadata": {
        "id": "view-in-github",
        "colab_type": "text"
      },
      "source": [
        "<a href=\"https://colab.research.google.com/github/sankalpSRM/21CSS101J-CSBS---RA2201104210059-python/blob/main/product.ipynb\" target=\"_parent\"><img src=\"https://colab.research.google.com/assets/colab-badge.svg\" alt=\"Open In Colab\"/></a>"
      ]
    },
    {
      "cell_type": "code",
      "source": [
        "a = int(input(\"Enter a number : \"))\n",
        "b = int(input(\"Enter another number : \"))\n",
        "operator = a * b\n",
        "print(operator)"
      ],
      "metadata": {
        "colab": {
          "base_uri": "https://localhost:8080/"
        },
        "id": "sY2YRIKTKzBa",
        "outputId": "dacc2498-c77f-428f-9840-7e21d6d58977"
      },
      "execution_count": 10,
      "outputs": [
        {
          "output_type": "stream",
          "name": "stdout",
          "text": [
            "Enter a number : 6\n",
            "Enter another number : 8\n",
            "48\n"
          ]
        }
      ]
    },
    {
      "cell_type": "markdown",
      "source": [
        "RA2211042010059"
      ],
      "metadata": {
        "id": "b2AsA0C1M9gk"
      }
    }
  ]
}