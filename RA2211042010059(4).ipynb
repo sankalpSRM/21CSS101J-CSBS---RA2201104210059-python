{
  "nbformat": 4,
  "nbformat_minor": 0,
  "metadata": {
    "colab": {
      "provenance": [],
      "authorship_tag": "ABX9TyMiBGmvv65c+qM0wwUrVgPw",
      "include_colab_link": true
    },
    "kernelspec": {
      "name": "python3",
      "display_name": "Python 3"
    },
    "language_info": {
      "name": "python"
    }
  },
  "cells": [
    {
      "cell_type": "markdown",
      "metadata": {
        "id": "view-in-github",
        "colab_type": "text"
      },
      "source": [
        "<a href=\"https://colab.research.google.com/github/sankalpSRM/21CSS101J-CSBS---RA2201104210059-python/blob/main/RA2211042010059(4).ipynb\" target=\"_parent\"><img src=\"https://colab.research.google.com/assets/colab-badge.svg\" alt=\"Open In Colab\"/></a>"
      ]
    },
    {
      "cell_type": "code",
      "source": [
        "a = int(input(\"Enter a number : \"))\n",
        "b = int(input(\"Enter another number : \"))\n",
        "product = a * b\n",
        "print(product)"
      ],
      "metadata": {
        "colab": {
          "base_uri": "https://localhost:8080/"
        },
        "id": "sY2YRIKTKzBa",
        "outputId": "6c623f41-903b-416a-fd79-4a72643c32b5"
      },
      "execution_count": 6,
      "outputs": [
        {
          "output_type": "stream",
          "name": "stdout",
          "text": [
            "Enter a number : 4\n",
            "Enter another number : 5\n",
            "20\n"
          ]
        }
      ]
    }
  ]
}