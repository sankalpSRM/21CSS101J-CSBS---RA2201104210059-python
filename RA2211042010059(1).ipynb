{
  "nbformat": 4,
  "nbformat_minor": 0,
  "metadata": {
    "colab": {
      "provenance": [],
      "authorship_tag": "ABX9TyPI0ra2oB1Eoz1w5Wd4ZF2b",
      "include_colab_link": true
    },
    "kernelspec": {
      "name": "python3",
      "display_name": "Python 3"
    },
    "language_info": {
      "name": "python"
    }
  },
  "cells": [
    {
      "cell_type": "markdown",
      "metadata": {
        "id": "view-in-github",
        "colab_type": "text"
      },
      "source": [
        "<a href=\"https://colab.research.google.com/github/sankalpSRM/21CSS101J-CSBS---RA2201104210059-python/blob/main/RA2211042010059(1).ipynb\" target=\"_parent\"><img src=\"https://colab.research.google.com/assets/colab-badge.svg\" alt=\"Open In Colab\"/></a>"
      ]
    },
    {
      "cell_type": "code",
      "execution_count": 24,
      "metadata": {
        "colab": {
          "base_uri": "https://localhost:8080/"
        },
        "id": "4nfxa9RyI2Xh",
        "outputId": "91ce113a-248a-4eb3-b986-84ad0d5f714f"
      },
      "outputs": [
        {
          "output_type": "stream",
          "name": "stdout",
          "text": [
            "Enter age : 18\n",
            "This person can Vote\n"
          ]
        }
      ],
      "source": [
        "age = int(input(\"Enter age : \"))\n",
        "if(age>=18):\n",
        "  print(\"This person can Vote\")\n",
        "else:\n",
        "  print(\"This person cannot Vote\")"
      ]
    },
    {
      "cell_type": "code",
      "source": [
        "\n",
        "name = input(\"Enter your Name : \")\n",
        "if(name=='Sankalp'):\n",
        "  print(\"Work\")\n",
        "elif(name=='Shaan'):\n",
        "  print(\"Home\")\n",
        "else:\n",
        "  print(\"Invalid\")"
      ],
      "metadata": {
        "colab": {
          "base_uri": "https://localhost:8080/"
        },
        "id": "wtBIZ6lKRr46",
        "outputId": "6e1e5a95-c127-4466-d353-ba552ffca95f"
      },
      "execution_count": 27,
      "outputs": [
        {
          "output_type": "stream",
          "name": "stdout",
          "text": [
            "Enter your Name : Sankalp\n",
            "Work\n"
          ]
        }
      ]
    },
    {
      "cell_type": "code",
      "source": [
        "age = int(input(\"Enter age : \"))\n",
        "if(age>=21):\n",
        "  print(\"This person is legally allowed to drink\")\n",
        "else:\n",
        "  print(\"This person isnt legally allowed to drink\")"
      ],
      "metadata": {
        "colab": {
          "base_uri": "https://localhost:8080/"
        },
        "id": "IpLZ5gq4Rwq9",
        "outputId": "9ef088d8-a288-4092-fd30-d84e4d6f7c6f"
      },
      "execution_count": 26,
      "outputs": [
        {
          "output_type": "stream",
          "name": "stdout",
          "text": [
            "Enter age : 19\n",
            "This person isnt legally allowed to drink\n"
          ]
        }
      ]
    },
    {
      "cell_type": "code",
      "source": [
        "name = str(input(\"Enter your Name : \"))\n",
        "if(name =='Sankalp' or name == 'Shaan'):\n",
        "  print(\"You are allowed in Delhi\")\n",
        "else:\n",
        "  print(\"You aren't allowed in Delhi\")\n"
      ],
      "metadata": {
        "colab": {
          "base_uri": "https://localhost:8080/"
        },
        "id": "N4m3UQBPSJNM",
        "outputId": "fa675cbb-1f4c-4684-8cfa-d6647380ac8c"
      },
      "execution_count": 37,
      "outputs": [
        {
          "output_type": "stream",
          "name": "stdout",
          "text": [
            "Enter your Name : Sankalp\n",
            "You are allowed in Delhi\n"
          ]
        }
      ]
    },
    {
      "cell_type": "code",
      "source": [
        "name = str(input(\"Enter your Name : \"))\n",
        "if(name =='Sankalp' or name == 'Shaan'):\n",
        "  print(\"You are not good at EEE\")\n",
        "else:\n",
        "  print(\"You are good at EEE\")"
      ],
      "metadata": {
        "colab": {
          "base_uri": "https://localhost:8080/"
        },
        "id": "Vc_k4ADvTmlD",
        "outputId": "5c2eb550-bb91-44be-bdee-911cf3bbc577"
      },
      "execution_count": 38,
      "outputs": [
        {
          "output_type": "stream",
          "name": "stdout",
          "text": [
            "Enter your Name : Sankalp\n",
            "You are not good at EEE\n"
          ]
        }
      ]
    },
    {
      "cell_type": "code",
      "source": [
        "num1 = int(input(\"Enter number: \"))\n",
        "num2 = int(input(\"Enter number: \"))\n",
        "sum = num1 + num2\n",
        "if(sum < 1000):\n",
        "  product = sum * 100\n",
        "  print(product)\n",
        "else:\n",
        "  print(sum)"
      ],
      "metadata": {
        "colab": {
          "base_uri": "https://localhost:8080/"
        },
        "id": "yd1d00_nUGfs",
        "outputId": "5514c7f7-0200-44d0-f64a-062705fe6516"
      },
      "execution_count": 41,
      "outputs": [
        {
          "output_type": "stream",
          "name": "stdout",
          "text": [
            "Enter number: 10\n",
            "Enter number: 990\n",
            "1000\n"
          ]
        }
      ]
    },
    {
      "cell_type": "code",
      "source": [
        "num1 = int(input(\"Enter number: \"))\n",
        "num2 = int(input(\"Enter number: \"))\n",
        "remainder = num1%num2\n",
        "if(remainder == 0):\n",
        "  print(\"Remainder is : \", remainder)\n",
        "  print(\"Both number are perfectly divisible by each other\")\n",
        "else:\n",
        "  print(\"Remainder is : \", remainder)\n",
        "  print(\"Ehh!! Invald\")"
      ],
      "metadata": {
        "colab": {
          "base_uri": "https://localhost:8080/"
        },
        "id": "GEhViSIgVD3M",
        "outputId": "37c8c78c-e72f-4a40-b72f-c31ad3bc64a3"
      },
      "execution_count": 43,
      "outputs": [
        {
          "output_type": "stream",
          "name": "stdout",
          "text": [
            "Enter number: 10\n",
            "Enter number: 2\n",
            "Remainder is :  0\n",
            "Both number are perfectly divisible by each other\n"
          ]
        }
      ]
    },
    {
      "cell_type": "code",
      "source": [
        "num1 = float(input(\"Enter number: \"))\n",
        "num2 = float(input(\"Enter number: \"))\n",
        "remainder = num1%num2\n",
        "if(remainder == 0):\n",
        "  print(\"Remainder is : \", remainder)\n",
        "  print(\"Both number are perfectly divisible by each other\")\n",
        "else:\n",
        "  print(\"Remainder is : \", remainder)\n",
        "  print(\"Ehh!! Invald\")"
      ],
      "metadata": {
        "colab": {
          "base_uri": "https://localhost:8080/"
        },
        "id": "Y81ma1lOV629",
        "outputId": "a564b77b-157b-4fed-99ed-5e07e09f3bae"
      },
      "execution_count": 44,
      "outputs": [
        {
          "output_type": "stream",
          "name": "stdout",
          "text": [
            "Enter number: 1.5\n",
            "Enter number: 0.5\n",
            "Remainder is :  0.0\n",
            "Both number are perfectly divisible by each other\n"
          ]
        }
      ]
    },
    {
      "cell_type": "code",
      "source": [
        "name = str(input(\"Enter your name : \"))\n",
        "age = int(input(\"Enter your age :\"))\n",
        "college = str(input(\"Enter college name of your Institution : \"))\n",
        "if(college == 'SRM'):\n",
        "  print(\"Name : \",name)\n",
        "  print(\"Age : \",age)\n",
        "  print(\"College : \",college)\n",
        "  print(\"You are enrolled in a good college!!!\")\n",
        "else:\n",
        "  print(\"Name : \",name)\n",
        "  print(\"Age : \",age)\n",
        "  print(\"College : \",college)\n",
        "  print(\"You are not enrolled in a good college!!!\")\n"
      ],
      "metadata": {
        "colab": {
          "base_uri": "https://localhost:8080/"
        },
        "id": "waUw20WPWGaD",
        "outputId": "69c4b1f1-c2f2-4fdc-f51e-8c3aa2629a80"
      },
      "execution_count": 54,
      "outputs": [
        {
          "output_type": "stream",
          "name": "stdout",
          "text": [
            "Enter your name : Sankalp\n",
            "Enter your age :19\n",
            "Enter college name of your Institution : SRM\n",
            "Name :  Sankalp\n",
            "Age :  19\n",
            "College :  SRM\n",
            "You are enrolled in a good college!!!\n"
          ]
        }
      ]
    },
    {
      "cell_type": "markdown",
      "source": [
        "RA2211042010059"
      ],
      "metadata": {
        "id": "120XmLgZQ3NO"
      }
    }
  ]
}